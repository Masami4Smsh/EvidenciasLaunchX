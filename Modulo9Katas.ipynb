{
 "cells": [
  {
   "cell_type": "markdown",
   "metadata": {},
   "source": [
    "# Ejercicio 1"
   ]
  },
  {
   "cell_type": "code",
   "execution_count": 3,
   "metadata": {},
   "outputs": [
    {
     "name": "stdout",
     "output_type": "stream",
     "text": [
      "Average Fuel Capacity: 28.0% \n",
      " Tank 1: 10% \n",
      " Tank 2: 10% \n",
      " Tank 3: 10%\n"
     ]
    }
   ],
   "source": [
    "#First function\n",
    "def average(t1,t2,t3):\n",
    "    avg = (t1+t2+t3)/3\n",
    "    return f\"Average Fuel Capacity: {avg}% \\n Tank 1: {t1}% \\n Tank 2: {t1}% \\n Tank 3: {t1}%\"\n",
    "\n",
    "print(average(10,40,34))    "
   ]
  },
  {
   "cell_type": "code",
   "execution_count": 4,
   "metadata": {},
   "outputs": [
    {
     "name": "stdout",
     "output_type": "stream",
     "text": [
      "28\n",
      "Average Fuel Capacity: 28% \n",
      " Tank 1: 10% \n",
      " Tank 2: 10% \n",
      " Tank 3: 10%\n"
     ]
    }
   ],
   "source": [
    "#Second function\n",
    "def average2(values):\n",
    "    total = sum(values)\n",
    "    tanks = len(values)\n",
    "    return total // tanks\n",
    "\n",
    "print(average2([10,40,34]))\n",
    "\n",
    "#Update function\n",
    "def average(t1,t2,t3):\n",
    "    return f\"Average Fuel Capacity: {average2([t1,t2,t3])}% \\n Tank 1: {t1}% \\n Tank 2: {t1}% \\n Tank 3: {t1}%\"\n",
    "\n",
    "print(average(10,40,34))  "
   ]
  },
  {
   "cell_type": "markdown",
   "metadata": {},
   "source": [
    "# Ejercicio 2"
   ]
  },
  {
   "cell_type": "code",
   "execution_count": 7,
   "metadata": {},
   "outputs": [
    {
     "name": "stdout",
     "output_type": "stream",
     "text": [
      "Going to: Mars \n",
      "Flight duration: 17 Hrs \n",
      "Total Fuel: 5915 Gal.\n"
     ]
    }
   ],
   "source": [
    "#Uso de argumentos\n",
    "def info(dep_time,flight,arr_time,t1,t2):\n",
    "    return f\"Going to: {flight} \\nFlight duration: {dep_time+arr_time} Hrs \\nTotal Fuel: {t1+t2} Gal.\"\n",
    "\n",
    "print(info(3,'Mars',14,3570,2345))"
   ]
  },
  {
   "cell_type": "code",
   "execution_count": 11,
   "metadata": {},
   "outputs": [
    {
     "name": "stdout",
     "output_type": "stream",
     "text": [
      "Going to: Mars \n",
      "Flight duration: 17 Hrs \n",
      "Total Fuel: 5915 Gal.\n"
     ]
    }
   ],
   "source": [
    "#Using infinite values\n",
    "def info2(flight,*time,**fuel_reservoirs):\n",
    "    return f\"Going to: {flight} \\nFlight duration: {sum(time)} Hrs \\nTotal Fuel: {sum(fuel_reservoirs.values())} Gal.\"\n",
    "\n",
    "print(info2('Mars',3,14,main=3570,external=2345))"
   ]
  },
  {
   "cell_type": "code",
   "execution_count": 14,
   "metadata": {},
   "outputs": [
    {
     "name": "stdout",
     "output_type": "stream",
     "text": [
      "Going to: Mars \n",
      "Flight duration: 116 Hrs \n",
      "Total Fuel: 5915 Gal.\n",
      "Main Tank --> 3570 gal. left\n",
      "External Tank --> 2345 gal. left\n"
     ]
    }
   ],
   "source": [
    "#Updated function\n",
    "def info(flight,*time,**fuel_reservoirs):\n",
    "    report = f\"Going to: {flight} \\nFlight duration: {sum(time)} Hrs \\nTotal Fuel: {sum(fuel_reservoirs.values())} Gal.\"\n",
    "    for name,value in fuel_reservoirs.items():\n",
    "        report += f\"\\n{name} Tank --> {value} gal. left\"\n",
    "    return report\n",
    "\n",
    "print(info('Mars',3,14,23,67,9,Main=3570,External=2345))"
   ]
  }
 ],
 "metadata": {
  "interpreter": {
   "hash": "b0b00becd7c311b42281bc72b07d0e91613dc4f063cf80af6dc83f8894d978fb"
  },
  "kernelspec": {
   "display_name": "Python 3.9.4 64-bit",
   "language": "python",
   "name": "python3"
  },
  "language_info": {
   "codemirror_mode": {
    "name": "ipython",
    "version": 3
   },
   "file_extension": ".py",
   "mimetype": "text/x-python",
   "name": "python",
   "nbconvert_exporter": "python",
   "pygments_lexer": "ipython3",
   "version": "3.9.4"
  },
  "orig_nbformat": 4
 },
 "nbformat": 4,
 "nbformat_minor": 2
}
