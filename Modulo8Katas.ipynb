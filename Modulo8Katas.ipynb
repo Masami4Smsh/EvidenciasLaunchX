{
 "cells": [
  {
   "cell_type": "markdown",
   "metadata": {},
   "source": [
    "# Ejercicio 1"
   ]
  },
  {
   "cell_type": "code",
   "execution_count": 8,
   "metadata": {},
   "outputs": [
    {
     "name": "stdout",
     "output_type": "stream",
     "text": [
      "Planet Mars has 2 moons\n",
      "Planet Mars's polar circunference: 6752 Km\n"
     ]
    }
   ],
   "source": [
    "#Diccionario\n",
    "planet = {\n",
    "    'name': 'Mars',\n",
    "    'moons': 2\n",
    "}\n",
    "\n",
    "print(f\"Planet {planet.get('name')} has {planet.get('moons')} moons\")\n",
    "\n",
    "planet['circunference (km)'] = {\n",
    "    'polar': 6752,\n",
    "    'equatorial': 6792\n",
    "}\n",
    "\n",
    "print(f\"Planet {planet.get('name')}'s polar circunference: {planet['circunference (km)']['polar']} Km\")"
   ]
  },
  {
   "cell_type": "markdown",
   "metadata": {},
   "source": [
    "<h1>Ejercicio 2</h1>"
   ]
  },
  {
   "cell_type": "code",
   "execution_count": 13,
   "metadata": {},
   "outputs": [
    {
     "name": "stdout",
     "output_type": "stream",
     "text": [
      "Planets: 12\n",
      "Total moons: 214\n",
      "Average amount of moons per planet: 17.833333333333332\n"
     ]
    }
   ],
   "source": [
    "#Diccionario\n",
    "pmoons = {\n",
    "    'mercury': 0,\n",
    "    'venus': 0,\n",
    "    'earth': 1,\n",
    "    'mars': 2,\n",
    "    'jupiter': 79,\n",
    "    'saturn': 82,\n",
    "    'uranus': 27,\n",
    "    'neptune': 14,\n",
    "    'pluto': 5,\n",
    "    'haumea': 2,\n",
    "    'makemake': 1,\n",
    "    'eris': 1\n",
    "}\n",
    "\n",
    "moons = pmoons.values()\n",
    "planets = len(pmoons.keys())\n",
    "\n",
    "print(\"Planets: \"+str(planets))\n",
    "\n",
    "tmoons = 0\n",
    "\n",
    "for value in moons:\n",
    "    tmoons += value\n",
    "\n",
    "avg = tmoons / planets\n",
    "print(\"Total moons: \"+ str(tmoons))\n",
    "print(\"Average amount of moons per planet: \"+ str(avg))"
   ]
  }
 ],
 "metadata": {
  "interpreter": {
   "hash": "b0b00becd7c311b42281bc72b07d0e91613dc4f063cf80af6dc83f8894d978fb"
  },
  "kernelspec": {
   "display_name": "Python 3.9.4 64-bit",
   "language": "python",
   "name": "python3"
  },
  "language_info": {
   "codemirror_mode": {
    "name": "ipython",
    "version": 3
   },
   "file_extension": ".py",
   "mimetype": "text/x-python",
   "name": "python",
   "nbconvert_exporter": "python",
   "pygments_lexer": "ipython3",
   "version": "3.9.4"
  },
  "orig_nbformat": 4
 },
 "nbformat": 4,
 "nbformat_minor": 2
}
