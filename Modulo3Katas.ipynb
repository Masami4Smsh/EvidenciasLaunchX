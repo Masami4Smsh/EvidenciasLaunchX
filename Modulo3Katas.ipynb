{
 "cells": [
  {
   "cell_type": "markdown",
   "metadata": {},
   "source": [
    "## Ejercicio 2"
   ]
  },
  {
   "cell_type": "code",
   "execution_count": 1,
   "metadata": {},
   "outputs": [
    {
     "name": "stdout",
     "output_type": "stream",
     "text": [
      "¡Advertencia! Meteorito aproximandose a gran velocidad\n"
     ]
    }
   ],
   "source": [
    "spd_met = 49 \n",
    "\n",
    "if spd_met > 25:\n",
    "    print(\"¡Advertencia! Meteorito aproximandose a gran velocidad\")\n",
    "else:\n",
    "    print(\"No hay alertas al momento\")"
   ]
  },
  {
   "cell_type": "markdown",
   "metadata": {},
   "source": [
    "## Ejercicio 2"
   ]
  },
  {
   "cell_type": "code",
   "execution_count": 4,
   "metadata": {},
   "outputs": [
    {
     "name": "stdout",
     "output_type": "stream",
     "text": [
      "No hay alertas al momento\n"
     ]
    }
   ],
   "source": [
    "spd_met = 19\n",
    "\n",
    "if spd_met > 25:\n",
    "    print(\"¡Peligro! Meteorito aproximandose a gran velocidad\")\n",
    "elif spd_met >= 20:\n",
    "    print(\"¡Advertencia! En caso de notar un rayo brilloso en el cielo desaloje el lugar\")\n",
    "else:\n",
    "    print(\"No hay alertas al momento\")"
   ]
  },
  {
   "cell_type": "markdown",
   "metadata": {},
   "source": [
    "## Ejercicio 3"
   ]
  },
  {
   "cell_type": "code",
   "execution_count": 6,
   "metadata": {},
   "outputs": [
    {
     "name": "stdout",
     "output_type": "stream",
     "text": [
      "Peligro: Meteorito acercandose al planeta\n",
      "¡Advertencia! En caso de notar un rayo brilloso en el cielo desaloje el lugar\n"
     ]
    }
   ],
   "source": [
    "spd_met = 23\n",
    "size_met = 40\n",
    "\n",
    "if size_met >= 25 and size_met<=1000:\n",
    "    print(\"Peligro: Meteorito acercandose al planeta\")\n",
    "    if spd_met > 25:\n",
    "        print(\"¡Peligro! Meteorito aproximandose a gran velocidad\")\n",
    "    elif spd_met >= 20:\n",
    "        print(\"¡Advertencia! En caso de notar un rayo brilloso en el cielo desaloje el lugar\")\n",
    "elif size_met > 1000:\n",
    "    print(\"Press F to pay respects\")\n",
    "else:\n",
    "    print(\"No hay alertas al momento\")"
   ]
  }
 ],
 "metadata": {
  "interpreter": {
   "hash": "b0b00becd7c311b42281bc72b07d0e91613dc4f063cf80af6dc83f8894d978fb"
  },
  "kernelspec": {
   "display_name": "Python 3.9.4 64-bit",
   "language": "python",
   "name": "python3"
  },
  "language_info": {
   "codemirror_mode": {
    "name": "ipython",
    "version": 3
   },
   "file_extension": ".py",
   "mimetype": "text/x-python",
   "name": "python",
   "nbconvert_exporter": "python",
   "pygments_lexer": "ipython3",
   "version": "3.9.4"
  },
  "orig_nbformat": 4
 },
 "nbformat": 4,
 "nbformat_minor": 2
}
