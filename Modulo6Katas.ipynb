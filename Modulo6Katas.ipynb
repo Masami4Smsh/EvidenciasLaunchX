{
 "cells": [
  {
   "cell_type": "markdown",
   "metadata": {},
   "source": [
    "# Ejercicio 1"
   ]
  },
  {
   "cell_type": "code",
   "execution_count": 2,
   "metadata": {},
   "outputs": [
    {
     "name": "stdout",
     "output_type": "stream",
     "text": [
      "['Mercury', 'Venus', 'Earth', 'Mars', 'Jupiter', 'Saturn', 'Uranus', 'Neptune']\n"
     ]
    },
    {
     "data": {
      "text/plain": [
       "9"
      ]
     },
     "execution_count": 2,
     "metadata": {},
     "output_type": "execute_result"
    }
   ],
   "source": [
    "#Lista de planetas \n",
    "planets = ['Mercury','Venus','Earth','Mars','Jupiter','Saturn','Uranus','Neptune']\n",
    "print(planets)\n",
    "\n",
    "#Plutón no es un planeta\n",
    "planets.append('Pluto')\n",
    "len(planets)"
   ]
  },
  {
   "cell_type": "markdown",
   "metadata": {},
   "source": [
    "# Ejercicio 2"
   ]
  },
  {
   "cell_type": "code",
   "execution_count": 12,
   "metadata": {},
   "outputs": [
    {
     "name": "stdout",
     "output_type": "stream",
     "text": [
      "Planets closer to Saturn\n",
      "\n",
      "['Mercury', 'Venus', 'Earth', 'Mars', 'Jupiter']\n",
      "\n",
      "Planets far away from Saturn\n",
      "\n",
      "['Uranus', 'Neptune']\n"
     ]
    }
   ],
   "source": [
    "#Lista de planetas \n",
    "planets = ['Mercury','Venus','Earth','Mars','Jupiter','Saturn','Uranus','Neptune']\n",
    "\n",
    "inpl = input(\"Insert the planet's name as planet limiter. Start with the first letter uppercase: \")\n",
    "if planets.index(inpl):\n",
    "    planet_index = planets.index(inpl)\n",
    "    print(\"Planets closer to \"+inpl+\"\\n\")\n",
    "    print(planets[0:planet_index])\n",
    "    print(\"\\nPlanets far away from \"+inpl+\"\\n\")\n",
    "    print(planets[planet_index+1:])\n",
    "else:\n",
    "    print(\"Input does not exist or is incorrectly written\")    \n",
    "    \n",
    "\n",
    "    \n",
    "        "
   ]
  }
 ],
 "metadata": {
  "interpreter": {
   "hash": "b0b00becd7c311b42281bc72b07d0e91613dc4f063cf80af6dc83f8894d978fb"
  },
  "kernelspec": {
   "display_name": "Python 3.9.4 64-bit",
   "language": "python",
   "name": "python3"
  },
  "language_info": {
   "codemirror_mode": {
    "name": "ipython",
    "version": 3
   },
   "file_extension": ".py",
   "mimetype": "text/x-python",
   "name": "python",
   "nbconvert_exporter": "python",
   "pygments_lexer": "ipython3",
   "version": "3.9.4"
  },
  "orig_nbformat": 4
 },
 "nbformat": 4,
 "nbformat_minor": 2
}
