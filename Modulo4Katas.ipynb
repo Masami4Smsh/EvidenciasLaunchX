{
 "cells": [
  {
   "cell_type": "markdown",
   "metadata": {},
   "source": [
    "## Ejercicio 1"
   ]
  },
  {
   "cell_type": "code",
   "execution_count": 120,
   "metadata": {},
   "outputs": [],
   "source": [
    "text = \"\"\"Interesting facts about the Moon. The Moon is Earth's only satellite. There are several interesting facts about the Moon and how it affects life here on Earth. On average, the Moon moves 4cm away from the Earth every year. This yearly drift is not significant enough to cause immediate effects on Earth. The highest daylight temperature of the Moon is 127 C.\"\"\""
   ]
  },
  {
   "cell_type": "markdown",
   "metadata": {},
   "source": [
    "### Divide el texto"
   ]
  },
  {
   "cell_type": "code",
   "execution_count": 121,
   "metadata": {},
   "outputs": [
    {
     "data": {
      "text/plain": [
       "['Interesting facts about the Moon',\n",
       " \"The Moon is Earth's only satellite\",\n",
       " 'There are several interesting facts about the Moon and how it affects life here on Earth',\n",
       " 'On average, the Moon moves 4cm away from the Earth every year',\n",
       " 'This yearly drift is not significant enough to cause immediate effects on Earth',\n",
       " 'The highest daylight temperature of the Moon is 127 C.']"
      ]
     },
     "execution_count": 121,
     "metadata": {},
     "output_type": "execute_result"
    }
   ],
   "source": [
    "info = text.split('. ')\n",
    "info"
   ]
  },
  {
   "cell_type": "markdown",
   "metadata": {},
   "source": [
    "### Búsqueda de oraciones importantes"
   ]
  },
  {
   "cell_type": "code",
   "execution_count": 122,
   "metadata": {},
   "outputs": [
    {
     "name": "stdout",
     "output_type": "stream",
     "text": [
      "On average, the Moon moves 4cm away from the Earth every year\n",
      "The highest daylight temperature of the Moon is 127 C.\n"
     ]
    }
   ],
   "source": [
    "keywords = ['average','distance','temperature']\n",
    "\n",
    "for t in info:\n",
    "    for k in keywords:\n",
    "        if k in t:\n",
    "            print(t)\n",
    "            break"
   ]
  },
  {
   "cell_type": "markdown",
   "metadata": {},
   "source": [
    "### Reemplace Celsius a C"
   ]
  },
  {
   "cell_type": "code",
   "execution_count": 123,
   "metadata": {},
   "outputs": [
    {
     "name": "stdout",
     "output_type": "stream",
     "text": [
      "On average, the Moon moves 4cm away from the Earth every year\n",
      "The highest daylight temperature of the Moon is 127 Celsius.\n"
     ]
    }
   ],
   "source": [
    "for t in info:\n",
    "    for k in keywords:\n",
    "        if k in t:\n",
    "            print(t.replace('C','Celsius'))\n",
    "            break"
   ]
  },
  {
   "cell_type": "markdown",
   "metadata": {},
   "source": [
    "## Ejercicio 2"
   ]
  },
  {
   "cell_type": "code",
   "execution_count": 124,
   "metadata": {},
   "outputs": [],
   "source": [
    "### Data\n",
    "name = \"Moon\"\n",
    "gravity = 0.00162 # in kms\n",
    "planet = \"Earth\""
   ]
  },
  {
   "cell_type": "markdown",
   "metadata": {},
   "source": [
    "### Titulo"
   ]
  },
  {
   "cell_type": "code",
   "execution_count": 125,
   "metadata": {},
   "outputs": [],
   "source": [
    "title = f'Gravity facts about {planet}'"
   ]
  },
  {
   "cell_type": "markdown",
   "metadata": {},
   "source": [
    "### Info"
   ]
  },
  {
   "cell_type": "code",
   "execution_count": 126,
   "metadata": {},
   "outputs": [],
   "source": [
    "data = f\"{'-'*80}\\nPlanet name:{planet}\\nGravity in {name}: {gravity*1000} m/s2\""
   ]
  },
  {
   "cell_type": "markdown",
   "metadata": {},
   "source": [
    "### Template"
   ]
  },
  {
   "cell_type": "code",
   "execution_count": 127,
   "metadata": {},
   "outputs": [
    {
     "name": "stdout",
     "output_type": "stream",
     "text": [
      "Gravity Facts About Earth\n",
      "--------------------------------------------------------------------------------\n",
      "Planet name:Earth\n",
      "Gravity in Moon: 1.6199999999999999 m/s2\n"
     ]
    }
   ],
   "source": [
    "temp = f\"{title.title()}\\n{data}\"\n",
    "print(temp)"
   ]
  },
  {
   "cell_type": "markdown",
   "metadata": {},
   "source": [
    "### New Data"
   ]
  },
  {
   "cell_type": "code",
   "execution_count": 128,
   "metadata": {},
   "outputs": [
    {
     "name": "stdout",
     "output_type": "stream",
     "text": [
      "Gravity Facts About Earth\n",
      "--------------------------------------------------------------------------------\n",
      "Planet name:Earth\n",
      "Gravity in Moon: 1.6199999999999999 m/s2\n"
     ]
    }
   ],
   "source": [
    "planet = 'Mars'\n",
    "gravity  = 0.00143\n",
    "name = 'Ganymede'\n",
    "\n",
    "print(temp)"
   ]
  },
  {
   "cell_type": "code",
   "execution_count": 129,
   "metadata": {},
   "outputs": [
    {
     "name": "stdout",
     "output_type": "stream",
     "text": [
      "Gravity facts about Mars\n",
      "--------------------------------------------------------------------------------\n",
      "Planet name:Mars\n",
      "Gravity in Ganymede: 0.00143 m/s2\n"
     ]
    }
   ],
   "source": [
    "data2 = f\"Gravity facts about {planet}\\n{'-'*80}\\nPlanet name:{planet}\\nGravity in {name}: {gravity} m/s2\"\n",
    "\n",
    "print(data2.format(planet=planet,gravity=gravity,name=name))"
   ]
  },
  {
   "cell_type": "code",
   "execution_count": 130,
   "metadata": {},
   "outputs": [
    {
     "name": "stdout",
     "output_type": "stream",
     "text": [
      "Gravity facts about Mars\n",
      "--------------------------------------------------------------------------------\n",
      "Planet name:Mars\n",
      "Gravity in Ganymede: 1.4300000000000002 m/s2\n"
     ]
    }
   ],
   "source": [
    "gravity=gravity*1000\n",
    "data2 = f\"Gravity facts about {planet}\\n{'-'*80}\\nPlanet name:{planet}\\nGravity in {name}: {gravity} m/s2\"\n",
    "print(data2.format(planet=planet,name=name,gravity=gravity))"
   ]
  }
 ],
 "metadata": {
  "interpreter": {
   "hash": "b0b00becd7c311b42281bc72b07d0e91613dc4f063cf80af6dc83f8894d978fb"
  },
  "kernelspec": {
   "display_name": "Python 3.9.4 64-bit",
   "language": "python",
   "name": "python3"
  },
  "language_info": {
   "codemirror_mode": {
    "name": "ipython",
    "version": 3
   },
   "file_extension": ".py",
   "mimetype": "text/x-python",
   "name": "python",
   "nbconvert_exporter": "python",
   "pygments_lexer": "ipython3",
   "version": "3.9.4"
  },
  "orig_nbformat": 4
 },
 "nbformat": 4,
 "nbformat_minor": 2
}
