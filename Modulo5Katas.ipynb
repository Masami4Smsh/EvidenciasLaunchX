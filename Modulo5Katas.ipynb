{
 "cells": [
  {
   "cell_type": "markdown",
   "metadata": {},
   "source": [
    "# Ejercicio 1"
   ]
  },
  {
   "cell_type": "code",
   "execution_count": 16,
   "metadata": {},
   "outputs": [],
   "source": [
    "#Datos son en km\n",
    "Earth = 149597870\n",
    "Jupyter = 778547200"
   ]
  },
  {
   "cell_type": "code",
   "execution_count": 17,
   "metadata": {},
   "outputs": [
    {
     "name": "stdout",
     "output_type": "stream",
     "text": [
      "628949330\n",
      "390577534\n"
     ]
    }
   ],
   "source": [
    "#Distancia entre planetas\n",
    "from math import ceil, floor\n",
    "Distance = Jupyter - Earth\n",
    "print(Distance)\n",
    "#Km a Mi\n",
    "Distance *= 0.621\n",
    "print(ceil(Distance))"
   ]
  },
  {
   "cell_type": "markdown",
   "metadata": {},
   "source": [
    "# Ejercicio 2"
   ]
  },
  {
   "cell_type": "code",
   "execution_count": 22,
   "metadata": {},
   "outputs": [
    {
     "name": "stdout",
     "output_type": "stream",
     "text": [
      "Distancia Total: 654900000 Km\n",
      "Distancia Total: 406692900 Mi\n"
     ]
    }
   ],
   "source": [
    "pa = input(\"Ingrese la distancia del primer planeta hacia el sol: \")\n",
    "pa = int(pa)\n",
    "pb = input(\"Ingrese la distancia del segundo planeta hacia el sol: \")\n",
    "pb = int(pb)\n",
    "distance = pb - pa\n",
    "print(\"Distancia Total: \"+str(abs(distance))+\" Km\")\n",
    "#Km a Mi\n",
    "distance *= 0.621\n",
    "print(\"Distancia Total: \"+str(abs(ceil(distance)))+\" Mi\")"
   ]
  }
 ],
 "metadata": {
  "interpreter": {
   "hash": "b0b00becd7c311b42281bc72b07d0e91613dc4f063cf80af6dc83f8894d978fb"
  },
  "kernelspec": {
   "display_name": "Python 3.9.4 64-bit",
   "language": "python",
   "name": "python3"
  },
  "language_info": {
   "codemirror_mode": {
    "name": "ipython",
    "version": 3
   },
   "file_extension": ".py",
   "mimetype": "text/x-python",
   "name": "python",
   "nbconvert_exporter": "python",
   "pygments_lexer": "ipython3",
   "version": "3.9.4"
  },
  "orig_nbformat": 4
 },
 "nbformat": 4,
 "nbformat_minor": 2
}
